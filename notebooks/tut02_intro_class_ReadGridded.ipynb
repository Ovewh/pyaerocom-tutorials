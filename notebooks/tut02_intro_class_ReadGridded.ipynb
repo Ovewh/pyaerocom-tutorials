{
 "cells": [
  {
   "cell_type": "markdown",
   "metadata": {},
   "source": [
    "## Reading of gridded data - the *ReadGridded* class\n",
    "\n",
    "This notebook introduces the [ReadGridded](http://aerocom.met.no/pyaerocom/api.html#pyaerocom.io.readgridded.ReadGridded) class of pyaerocom, a flexible interface for importing model results from a single model, based on variable name (e.g. *od550aer*, *od550bc*), start / stop time stamps and temporal resolution (e.g. *hourly, 3hourly, daily, monthly*). \n",
    "\n",
    "The class is part of the [readgridded](http://aerocom.met.no/pyaerocom/api.html#module-pyaerocom.io.readgridded) module of pyaerocom.\n",
    "\n",
    "In the following, we create an instance of the the `ReadGridded` class and use this object to find and import data \n",
    "files containing the aerosol optical depth at 550 nm (*od550aer*) from the ECMWF CAMS reanalysis dataset (*ECMWF_CAMS_REAN*) for the years 2003-2007 and in daily resolution. The files will be temporally merged and put into a single instance of the `GriddedData` class. \n",
    "\n",
    "We start with creating a reading object, that will take care of finding the model directory for us (based on the model ID) and all valid NetCDF files on initialisation. Use the `print` commant to preview the string representation of `ReadGridded` object, which provides useful information about what is in there."
   ]
  },
  {
   "cell_type": "markdown",
   "metadata": {},
   "source": [
    "### Remark on reading of gridded data\n",
    "\n",
    "Since model data files can be large (too large for in-memory operations), gridded data in pyaerocom (e.g. model data or satellite data) is generally read and represented as *lazy data*. That means, that the actual N-dimensional data array is not loaded into memory before needed. Lazy data is represented as [dask array] as pyaerocom data objects rely either on the Python [iris](https://scitools.org.uk/iris/docs/latest/index.html) library or [xarray](http://xarray.pydata.org/en/stable/index.html) (which both use dask for representing lazy data and for out of core computation). For more information on lazy data, see e.g. https://scitools.org.uk/iris/docs/latest/userguide/real_and_lazy_data.html.\n",
    "\n",
    "**Example**: Consider one year of daily model data in 1x1 resolution with 30 vertical layers, stored as 64 bit floating point numbers. Loading such a file into memory, would require a RAM of at least:"
   ]
  },
  {
   "cell_type": "code",
   "execution_count": 1,
   "metadata": {},
   "outputs": [
    {
     "data": {
      "text/plain": [
       "'5.7 GB'"
      ]
     },
     "execution_count": 1,
     "metadata": {},
     "output_type": "execute_result"
    }
   ],
   "source": [
    "'{:.1f} GB'.format(64 * (360 * 180) * 30 * 365 / (8 * 10**9))"
   ]
  },
  {
   "cell_type": "markdown",
   "metadata": {},
   "source": [
    "Or the same in hourly resolution:"
   ]
  },
  {
   "cell_type": "code",
   "execution_count": 2,
   "metadata": {},
   "outputs": [
    {
     "data": {
      "text/plain": [
       "'136.2 GB'"
      ]
     },
     "execution_count": 2,
     "metadata": {},
     "output_type": "execute_result"
    }
   ],
   "source": [
    "'{:.1f} GB'.format(64 * (360 * 180) * 30 * 365 * 24 / (8 * 10**9))"
   ]
  },
  {
   "cell_type": "code",
   "execution_count": 3,
   "metadata": {},
   "outputs": [
    {
     "name": "stderr",
     "output_type": "stream",
     "text": [
      "Initating pyaerocom configuration\n"
     ]
    },
    {
     "name": "stderr",
     "output_type": "stream",
     "text": [
      "Checking database access...\n"
     ]
    },
    {
     "name": "stderr",
     "output_type": "stream",
     "text": [
      "Checking access to: /lustre/storeA\n"
     ]
    },
    {
     "name": "stderr",
     "output_type": "stream",
     "text": [
      "Access to lustre database: True\n"
     ]
    },
    {
     "name": "stderr",
     "output_type": "stream",
     "text": [
      "Init data paths for lustre\n"
     ]
    },
    {
     "name": "stderr",
     "output_type": "stream",
     "text": [
      "Expired time: 0.046 s\n"
     ]
    }
   ],
   "source": [
    "import pyaerocom as pya\n",
    "pya.change_verbosity('critical')"
   ]
  },
  {
   "cell_type": "markdown",
   "metadata": {},
   "source": [
    "### Create instance of `ReadGridded` class"
   ]
  },
  {
   "cell_type": "code",
   "execution_count": 4,
   "metadata": {},
   "outputs": [
    {
     "name": "stderr",
     "output_type": "stream",
     "text": [
      "Failed to import file ERA-Interim_coordvars.nc\n",
      "Model: ECMWF_CAMS_REAN\n",
      "Error: FileConventionError('Failed to extract year information from file ERA-Interim_coordvars.nc using file convention aerocom2',)\n"
     ]
    },
    {
     "name": "stderr",
     "output_type": "stream",
     "text": [
      "Failed to import file ECMWF_CAMS_REAN.daytime.od550aer.2007.nc\n",
      "Model: ECMWF_CAMS_REAN\n",
      "Error: TemporalResolutionError('Invalid frequency daytime',)\n"
     ]
    },
    {
     "name": "stderr",
     "output_type": "stream",
     "text": [
      "Failed to import file od550aer.29feb2004.nc\n",
      "Model: ECMWF_CAMS_REAN\n",
      "Error: FileConventionError('Failed to extract year information from file od550aer.29feb2004.nc using file convention aerocom2',)\n"
     ]
    },
    {
     "name": "stderr",
     "output_type": "stream",
     "text": [
      "Failed to import file od550aer.29feb2007.nc\n",
      "Model: ECMWF_CAMS_REAN\n",
      "Error: FileConventionError('Failed to extract year information from file od550aer.29feb2007.nc using file convention aerocom2',)\n"
     ]
    },
    {
     "name": "stdout",
     "output_type": "stream",
     "text": [
      "\n",
      "Pyaerocom ReadGridded\n",
      "---------------------\n",
      "Data ID: ECMWF_CAMS_REAN\n",
      "Data directory: /lustre/storeA/project/aerocom/aerocom-users-database/ECMWF/ECMWF_CAMS_REAN/renamed\n",
      "Available experiments: ['']\n",
      "Available years: [2003, 2004, 2005, 2006, 2007, 2008, 2009, 2010, 2011, 2012, 2013, 2014, 2015, 2016, 2017, 2018, 9999]\n",
      "Available frequencies ['daily' 'monthly']\n",
      "Available variables: ['ang4487aer', 'bscatc532aerboa', 'bscatc532aertoa', 'ec532aer', 'ec532dryaer', 'od440aer', 'od550aer', 'od550bc', 'od550dust', 'od550oa', 'od550so4', 'od550ss', 'od865aer', 'sconcpm10', 'sconcpm25', 'time', 'z']\n"
     ]
    }
   ],
   "source": [
    "reader = pya.io.ReadGridded(data_id=\"ECMWF_CAMS_REAN\")\n",
    "print(reader)"
   ]
  },
  {
   "cell_type": "markdown",
   "metadata": {},
   "source": [
    "The output contains information about all variables that were found and all corresponding years. These information is extracted from the filenames, which have to follow the AEROCOM file naming conventions.\n",
    "\n",
    "**Please note** that at this point, no data is actually imported but only the paths are set that contain data for this model. In order to read one variable, call the ``read_var`` function with a valid variable name. You can check available variables using the ``vars`` attribute (or by printing the string representation, as shown in the cell above)."
   ]
  },
  {
   "cell_type": "code",
   "execution_count": 5,
   "metadata": {},
   "outputs": [
    {
     "data": {
      "text/plain": [
       "['ang4487aer',\n",
       " 'bscatc532aerboa',\n",
       " 'bscatc532aertoa',\n",
       " 'ec532aer',\n",
       " 'ec532dryaer',\n",
       " 'od440aer',\n",
       " 'od550aer',\n",
       " 'od550bc',\n",
       " 'od550dust',\n",
       " 'od550oa',\n",
       " 'od550so4',\n",
       " 'od550ss',\n",
       " 'od865aer',\n",
       " 'sconcpm10',\n",
       " 'sconcpm25',\n",
       " 'time',\n",
       " 'z']"
      ]
     },
     "execution_count": 5,
     "metadata": {},
     "output_type": "execute_result"
    }
   ],
   "source": [
    "reader.vars"
   ]
  },
  {
   "cell_type": "code",
   "execution_count": 6,
   "metadata": {},
   "outputs": [
    {
     "data": {
      "text/plain": [
       "pyaerocom.GriddedData\n",
       "Grid data: <iris 'Cube' of Aerosol optical depth at 550 nm / (1) (time: 1826; latitude: 161; longitude: 320)>"
      ]
     },
     "execution_count": 6,
     "metadata": {},
     "output_type": "execute_result"
    }
   ],
   "source": [
    "data = reader.read_var(var_name=\"od550aer\", ts_type=\"daily\", start=\"1-1-2003\", stop=\"31-12-2007\")\n",
    "data"
   ]
  },
  {
   "cell_type": "markdown",
   "metadata": {},
   "source": [
    "The returned data object is of type [GriddedData](http://aerocom.met.no/pyaerocom/api.html#pyaerocom.griddeddata.GriddedData) class, which will be introduced in more detail later. This data object is returned by the ``read_var`` method and can also be accessed from the instance of the reading class using:"
   ]
  },
  {
   "cell_type": "code",
   "execution_count": 7,
   "metadata": {},
   "outputs": [
    {
     "data": {
      "text/plain": [
       "True"
      ]
     },
     "execution_count": 7,
     "metadata": {},
     "output_type": "execute_result"
    }
   ],
   "source": [
    "d = reader.data[\"od550aer\"]\n",
    "d is data #?"
   ]
  },
  {
   "cell_type": "markdown",
   "metadata": {},
   "source": [
    "We may also import other variables using either the above used method ``read_var`` or the more general ``read`` method which can read single or multiple variables on the run."
   ]
  },
  {
   "cell_type": "code",
   "execution_count": 8,
   "metadata": {},
   "outputs": [
    {
     "data": {
      "text/plain": [
       "(pyaerocom.GriddedData\n",
       " Grid data: <iris 'Cube' of Aerosol optical depth at 550 nm / (1) (time: 5844; latitude: 161; longitude: 320)>,\n",
       " pyaerocom.GriddedData\n",
       " Grid data: <iris 'Cube' of Aerosol optical depth at 550 nm / (1) (time: 5844; latitude: 161; longitude: 320)>,\n",
       " pyaerocom.GriddedData\n",
       " Grid data: <iris 'Cube' of Aerosol optical depth at 550 nm / (1) (time: 5844; latitude: 161; longitude: 320)>,\n",
       " pyaerocom.GriddedData\n",
       " Grid data: <iris 'Cube' of Aerosol optical depth at 550 nm / (1) (time: 5844; latitude: 161; longitude: 320)>)"
      ]
     },
     "execution_count": 8,
     "metadata": {},
     "output_type": "execute_result"
    }
   ],
   "source": [
    "reader.read(['od550bc', 'od550dust', 'od550oa', 'od550so4'])"
   ]
  },
  {
   "cell_type": "markdown",
   "metadata": {},
   "source": [
    "Now let's double check if all variables have been imported."
   ]
  },
  {
   "cell_type": "code",
   "execution_count": 9,
   "metadata": {},
   "outputs": [
    {
     "name": "stdout",
     "output_type": "stream",
     "text": [
      "\n",
      "Pyaerocom ReadGridded\n",
      "---------------------\n",
      "Data ID: ECMWF_CAMS_REAN\n",
      "Data directory: /lustre/storeA/project/aerocom/aerocom-users-database/ECMWF/ECMWF_CAMS_REAN/renamed\n",
      "Available experiments: ['']\n",
      "Available years: [2003, 2004, 2005, 2006, 2007, 2008, 2009, 2010, 2011, 2012, 2013, 2014, 2015, 2016, 2017, 2018, 9999]\n",
      "Available frequencies ['daily' 'monthly']\n",
      "Available variables: ['ang4487aer', 'bscatc532aerboa', 'bscatc532aertoa', 'ec532aer', 'ec532dryaer', 'od440aer', 'od550aer', 'od550bc', 'od550dust', 'od550oa', 'od550so4', 'od550ss', 'od865aer', 'sconcpm10', 'sconcpm25', 'time', 'z']\n",
      "\n",
      "Loaded GriddedData objects:\n",
      "ID: ECMWF_CAMS_REAN, Var: od550aer\n",
      "ID: ECMWF_CAMS_REAN, Var: od550bc\n",
      "ID: ECMWF_CAMS_REAN, Var: od550dust\n",
      "ID: ECMWF_CAMS_REAN, Var: od550oa\n",
      "ID: ECMWF_CAMS_REAN, Var: od550so4\n"
     ]
    }
   ],
   "source": [
    "print(reader)"
   ]
  },
  {
   "cell_type": "markdown",
   "metadata": {},
   "source": [
    "In the following we continue with the ``od550aer`` data object that was loaded first and that was assigned the name ``data`` above. "
   ]
  },
  {
   "cell_type": "code",
   "execution_count": 10,
   "metadata": {},
   "outputs": [
    {
     "name": "stdout",
     "output_type": "stream",
     "text": [
      "\n",
      "The data object is of type <class 'pyaerocom.griddeddata.GriddedData'> and contains 1826 time stamps\n"
     ]
    }
   ],
   "source": [
    "print(\"\\nThe data object is of type %s and contains %d time stamps\" %(type(data), data.shape[0]))"
   ]
  },
  {
   "cell_type": "markdown",
   "metadata": {},
   "source": [
    "The returned [GriddedData](http://aerocom.met.no/pyaerocom/api.html#pyaerocom.griddeddata.GriddedData) object contains 1826 time stamps. Given that the defined period of 5 years includes one leap year, we should expect that we imported data for each day of the five years?"
   ]
  },
  {
   "cell_type": "code",
   "execution_count": 11,
   "metadata": {},
   "outputs": [
    {
     "name": "stdout",
     "output_type": "stream",
     "text": [
      "True\n"
     ]
    }
   ],
   "source": [
    "print(1826 == 5*365+1)"
   ]
  },
  {
   "cell_type": "markdown",
   "metadata": {},
   "source": [
    "#### Other options for reading\n",
    "\n",
    "The reading query can be further customised with respect to the temporal resolution that is requested. Let's have a look at the available AOD data at 550 nm:"
   ]
  },
  {
   "cell_type": "code",
   "execution_count": 12,
   "metadata": {},
   "outputs": [
    {
     "data": {
      "text/html": [
       "<div>\n",
       "<style scoped>\n",
       "    .dataframe tbody tr th:only-of-type {\n",
       "        vertical-align: middle;\n",
       "    }\n",
       "\n",
       "    .dataframe tbody tr th {\n",
       "        vertical-align: top;\n",
       "    }\n",
       "\n",
       "    .dataframe thead th {\n",
       "        text-align: right;\n",
       "    }\n",
       "</style>\n",
       "<table border=\"1\" class=\"dataframe\">\n",
       "  <thead>\n",
       "    <tr style=\"text-align: right;\">\n",
       "      <th></th>\n",
       "      <th>var_name</th>\n",
       "      <th>year</th>\n",
       "      <th>ts_type</th>\n",
       "      <th>vert_code</th>\n",
       "      <th>data_id</th>\n",
       "      <th>experiment</th>\n",
       "      <th>is_at_stations</th>\n",
       "      <th>3D</th>\n",
       "      <th>filename</th>\n",
       "    </tr>\n",
       "  </thead>\n",
       "  <tbody>\n",
       "    <tr>\n",
       "      <th>14</th>\n",
       "      <td>od550aer</td>\n",
       "      <td>2003</td>\n",
       "      <td>daily</td>\n",
       "      <td></td>\n",
       "      <td>ECMWF_CAMS_REAN</td>\n",
       "      <td></td>\n",
       "      <td>False</td>\n",
       "      <td>False</td>\n",
       "      <td>aerocom.ECMWF_CAMS_REAN.daily.od550aer.2003.nc</td>\n",
       "    </tr>\n",
       "    <tr>\n",
       "      <th>137</th>\n",
       "      <td>od550aer</td>\n",
       "      <td>2003</td>\n",
       "      <td>monthly</td>\n",
       "      <td></td>\n",
       "      <td>ECMWF_CAMS_REAN</td>\n",
       "      <td></td>\n",
       "      <td>False</td>\n",
       "      <td>False</td>\n",
       "      <td>aerocom.ECMWF_CAMS_REAN.monthly.od550aer.2003.nc</td>\n",
       "    </tr>\n",
       "    <tr>\n",
       "      <th>80</th>\n",
       "      <td>od550aer</td>\n",
       "      <td>2004</td>\n",
       "      <td>daily</td>\n",
       "      <td></td>\n",
       "      <td>ECMWF_CAMS_REAN</td>\n",
       "      <td></td>\n",
       "      <td>False</td>\n",
       "      <td>False</td>\n",
       "      <td>aerocom.ECMWF_CAMS_REAN.daily.od550aer.2004.nc</td>\n",
       "    </tr>\n",
       "    <tr>\n",
       "      <th>104</th>\n",
       "      <td>od550aer</td>\n",
       "      <td>2004</td>\n",
       "      <td>monthly</td>\n",
       "      <td></td>\n",
       "      <td>ECMWF_CAMS_REAN</td>\n",
       "      <td></td>\n",
       "      <td>False</td>\n",
       "      <td>False</td>\n",
       "      <td>aerocom.ECMWF_CAMS_REAN.monthly.od550aer.2004.nc</td>\n",
       "    </tr>\n",
       "    <tr>\n",
       "      <th>224</th>\n",
       "      <td>od550aer</td>\n",
       "      <td>2005</td>\n",
       "      <td>daily</td>\n",
       "      <td></td>\n",
       "      <td>ECMWF_CAMS_REAN</td>\n",
       "      <td></td>\n",
       "      <td>False</td>\n",
       "      <td>False</td>\n",
       "      <td>aerocom.ECMWF_CAMS_REAN.daily.od550aer.2005.nc</td>\n",
       "    </tr>\n",
       "    <tr>\n",
       "      <th>77</th>\n",
       "      <td>od550aer</td>\n",
       "      <td>2005</td>\n",
       "      <td>monthly</td>\n",
       "      <td></td>\n",
       "      <td>ECMWF_CAMS_REAN</td>\n",
       "      <td></td>\n",
       "      <td>False</td>\n",
       "      <td>False</td>\n",
       "      <td>aerocom.ECMWF_CAMS_REAN.monthly.od550aer.2005.nc</td>\n",
       "    </tr>\n",
       "    <tr>\n",
       "      <th>205</th>\n",
       "      <td>od550aer</td>\n",
       "      <td>2006</td>\n",
       "      <td>daily</td>\n",
       "      <td></td>\n",
       "      <td>ECMWF_CAMS_REAN</td>\n",
       "      <td></td>\n",
       "      <td>False</td>\n",
       "      <td>False</td>\n",
       "      <td>aerocom.ECMWF_CAMS_REAN.daily.od550aer.2006.nc</td>\n",
       "    </tr>\n",
       "    <tr>\n",
       "      <th>171</th>\n",
       "      <td>od550aer</td>\n",
       "      <td>2006</td>\n",
       "      <td>monthly</td>\n",
       "      <td></td>\n",
       "      <td>ECMWF_CAMS_REAN</td>\n",
       "      <td></td>\n",
       "      <td>False</td>\n",
       "      <td>False</td>\n",
       "      <td>aerocom.ECMWF_CAMS_REAN.monthly.od550aer.2006.nc</td>\n",
       "    </tr>\n",
       "    <tr>\n",
       "      <th>150</th>\n",
       "      <td>od550aer</td>\n",
       "      <td>2007</td>\n",
       "      <td>daily</td>\n",
       "      <td></td>\n",
       "      <td>ECMWF_CAMS_REAN</td>\n",
       "      <td></td>\n",
       "      <td>False</td>\n",
       "      <td>False</td>\n",
       "      <td>aerocom.ECMWF_CAMS_REAN.daily.od550aer.2007.nc</td>\n",
       "    </tr>\n",
       "    <tr>\n",
       "      <th>0</th>\n",
       "      <td>od550aer</td>\n",
       "      <td>2007</td>\n",
       "      <td>monthly</td>\n",
       "      <td></td>\n",
       "      <td>ECMWF_CAMS_REAN</td>\n",
       "      <td></td>\n",
       "      <td>False</td>\n",
       "      <td>False</td>\n",
       "      <td>aerocom.ECMWF_CAMS_REAN.monthly.od550aer.2007.nc</td>\n",
       "    </tr>\n",
       "    <tr>\n",
       "      <th>182</th>\n",
       "      <td>od550aer</td>\n",
       "      <td>2008</td>\n",
       "      <td>daily</td>\n",
       "      <td></td>\n",
       "      <td>ECMWF_CAMS_REAN</td>\n",
       "      <td></td>\n",
       "      <td>False</td>\n",
       "      <td>False</td>\n",
       "      <td>aerocom.ECMWF_CAMS_REAN.daily.od550aer.2008.nc</td>\n",
       "    </tr>\n",
       "    <tr>\n",
       "      <th>67</th>\n",
       "      <td>od550aer</td>\n",
       "      <td>2009</td>\n",
       "      <td>daily</td>\n",
       "      <td></td>\n",
       "      <td>ECMWF_CAMS_REAN</td>\n",
       "      <td></td>\n",
       "      <td>False</td>\n",
       "      <td>False</td>\n",
       "      <td>aerocom.ECMWF_CAMS_REAN.daily.od550aer.2009.nc</td>\n",
       "    </tr>\n",
       "    <tr>\n",
       "      <th>191</th>\n",
       "      <td>od550aer</td>\n",
       "      <td>2010</td>\n",
       "      <td>daily</td>\n",
       "      <td></td>\n",
       "      <td>ECMWF_CAMS_REAN</td>\n",
       "      <td></td>\n",
       "      <td>False</td>\n",
       "      <td>False</td>\n",
       "      <td>aerocom.ECMWF_CAMS_REAN.daily.od550aer.2010.nc</td>\n",
       "    </tr>\n",
       "    <tr>\n",
       "      <th>13</th>\n",
       "      <td>od550aer</td>\n",
       "      <td>2011</td>\n",
       "      <td>daily</td>\n",
       "      <td></td>\n",
       "      <td>ECMWF_CAMS_REAN</td>\n",
       "      <td></td>\n",
       "      <td>False</td>\n",
       "      <td>False</td>\n",
       "      <td>aerocom.ECMWF_CAMS_REAN.daily.od550aer.2011.nc</td>\n",
       "    </tr>\n",
       "    <tr>\n",
       "      <th>145</th>\n",
       "      <td>od550aer</td>\n",
       "      <td>2012</td>\n",
       "      <td>daily</td>\n",
       "      <td></td>\n",
       "      <td>ECMWF_CAMS_REAN</td>\n",
       "      <td></td>\n",
       "      <td>False</td>\n",
       "      <td>False</td>\n",
       "      <td>aerocom.ECMWF_CAMS_REAN.daily.od550aer.2012.nc</td>\n",
       "    </tr>\n",
       "    <tr>\n",
       "      <th>190</th>\n",
       "      <td>od550aer</td>\n",
       "      <td>2013</td>\n",
       "      <td>daily</td>\n",
       "      <td></td>\n",
       "      <td>ECMWF_CAMS_REAN</td>\n",
       "      <td></td>\n",
       "      <td>False</td>\n",
       "      <td>False</td>\n",
       "      <td>aerocom.ECMWF_CAMS_REAN.daily.od550aer.2013.nc</td>\n",
       "    </tr>\n",
       "    <tr>\n",
       "      <th>131</th>\n",
       "      <td>od550aer</td>\n",
       "      <td>2014</td>\n",
       "      <td>daily</td>\n",
       "      <td></td>\n",
       "      <td>ECMWF_CAMS_REAN</td>\n",
       "      <td></td>\n",
       "      <td>False</td>\n",
       "      <td>False</td>\n",
       "      <td>aerocom.ECMWF_CAMS_REAN.daily.od550aer.2014.nc</td>\n",
       "    </tr>\n",
       "    <tr>\n",
       "      <th>138</th>\n",
       "      <td>od550aer</td>\n",
       "      <td>2015</td>\n",
       "      <td>daily</td>\n",
       "      <td></td>\n",
       "      <td>ECMWF_CAMS_REAN</td>\n",
       "      <td></td>\n",
       "      <td>False</td>\n",
       "      <td>False</td>\n",
       "      <td>aerocom.ECMWF_CAMS_REAN.daily.od550aer.2015.nc</td>\n",
       "    </tr>\n",
       "    <tr>\n",
       "      <th>231</th>\n",
       "      <td>od550aer</td>\n",
       "      <td>2016</td>\n",
       "      <td>daily</td>\n",
       "      <td></td>\n",
       "      <td>ECMWF_CAMS_REAN</td>\n",
       "      <td></td>\n",
       "      <td>False</td>\n",
       "      <td>False</td>\n",
       "      <td>aerocom.ECMWF_CAMS_REAN.daily.od550aer.2016.nc</td>\n",
       "    </tr>\n",
       "    <tr>\n",
       "      <th>88</th>\n",
       "      <td>od550aer</td>\n",
       "      <td>2017</td>\n",
       "      <td>daily</td>\n",
       "      <td></td>\n",
       "      <td>ECMWF_CAMS_REAN</td>\n",
       "      <td></td>\n",
       "      <td>False</td>\n",
       "      <td>False</td>\n",
       "      <td>aerocom.ECMWF_CAMS_REAN.daily.od550aer.2017.nc</td>\n",
       "    </tr>\n",
       "    <tr>\n",
       "      <th>99</th>\n",
       "      <td>od550aer</td>\n",
       "      <td>2018</td>\n",
       "      <td>daily</td>\n",
       "      <td></td>\n",
       "      <td>ECMWF_CAMS_REAN</td>\n",
       "      <td></td>\n",
       "      <td>False</td>\n",
       "      <td>False</td>\n",
       "      <td>aerocom.ECMWF_CAMS_REAN.daily.od550aer.2018.nc</td>\n",
       "    </tr>\n",
       "  </tbody>\n",
       "</table>\n",
       "</div>"
      ],
      "text/plain": [
       "     var_name  year  ts_type vert_code          data_id experiment  \\\n",
       "14   od550aer  2003    daily            ECMWF_CAMS_REAN              \n",
       "137  od550aer  2003  monthly            ECMWF_CAMS_REAN              \n",
       "80   od550aer  2004    daily            ECMWF_CAMS_REAN              \n",
       "104  od550aer  2004  monthly            ECMWF_CAMS_REAN              \n",
       "224  od550aer  2005    daily            ECMWF_CAMS_REAN              \n",
       "77   od550aer  2005  monthly            ECMWF_CAMS_REAN              \n",
       "205  od550aer  2006    daily            ECMWF_CAMS_REAN              \n",
       "171  od550aer  2006  monthly            ECMWF_CAMS_REAN              \n",
       "150  od550aer  2007    daily            ECMWF_CAMS_REAN              \n",
       "0    od550aer  2007  monthly            ECMWF_CAMS_REAN              \n",
       "182  od550aer  2008    daily            ECMWF_CAMS_REAN              \n",
       "67   od550aer  2009    daily            ECMWF_CAMS_REAN              \n",
       "191  od550aer  2010    daily            ECMWF_CAMS_REAN              \n",
       "13   od550aer  2011    daily            ECMWF_CAMS_REAN              \n",
       "145  od550aer  2012    daily            ECMWF_CAMS_REAN              \n",
       "190  od550aer  2013    daily            ECMWF_CAMS_REAN              \n",
       "131  od550aer  2014    daily            ECMWF_CAMS_REAN              \n",
       "138  od550aer  2015    daily            ECMWF_CAMS_REAN              \n",
       "231  od550aer  2016    daily            ECMWF_CAMS_REAN              \n",
       "88   od550aer  2017    daily            ECMWF_CAMS_REAN              \n",
       "99   od550aer  2018    daily            ECMWF_CAMS_REAN              \n",
       "\n",
       "     is_at_stations     3D                                          filename  \n",
       "14            False  False    aerocom.ECMWF_CAMS_REAN.daily.od550aer.2003.nc  \n",
       "137           False  False  aerocom.ECMWF_CAMS_REAN.monthly.od550aer.2003.nc  \n",
       "80            False  False    aerocom.ECMWF_CAMS_REAN.daily.od550aer.2004.nc  \n",
       "104           False  False  aerocom.ECMWF_CAMS_REAN.monthly.od550aer.2004.nc  \n",
       "224           False  False    aerocom.ECMWF_CAMS_REAN.daily.od550aer.2005.nc  \n",
       "77            False  False  aerocom.ECMWF_CAMS_REAN.monthly.od550aer.2005.nc  \n",
       "205           False  False    aerocom.ECMWF_CAMS_REAN.daily.od550aer.2006.nc  \n",
       "171           False  False  aerocom.ECMWF_CAMS_REAN.monthly.od550aer.2006.nc  \n",
       "150           False  False    aerocom.ECMWF_CAMS_REAN.daily.od550aer.2007.nc  \n",
       "0             False  False  aerocom.ECMWF_CAMS_REAN.monthly.od550aer.2007.nc  \n",
       "182           False  False    aerocom.ECMWF_CAMS_REAN.daily.od550aer.2008.nc  \n",
       "67            False  False    aerocom.ECMWF_CAMS_REAN.daily.od550aer.2009.nc  \n",
       "191           False  False    aerocom.ECMWF_CAMS_REAN.daily.od550aer.2010.nc  \n",
       "13            False  False    aerocom.ECMWF_CAMS_REAN.daily.od550aer.2011.nc  \n",
       "145           False  False    aerocom.ECMWF_CAMS_REAN.daily.od550aer.2012.nc  \n",
       "190           False  False    aerocom.ECMWF_CAMS_REAN.daily.od550aer.2013.nc  \n",
       "131           False  False    aerocom.ECMWF_CAMS_REAN.daily.od550aer.2014.nc  \n",
       "138           False  False    aerocom.ECMWF_CAMS_REAN.daily.od550aer.2015.nc  \n",
       "231           False  False    aerocom.ECMWF_CAMS_REAN.daily.od550aer.2016.nc  \n",
       "88            False  False    aerocom.ECMWF_CAMS_REAN.daily.od550aer.2017.nc  \n",
       "99            False  False    aerocom.ECMWF_CAMS_REAN.daily.od550aer.2018.nc  "
      ]
     },
     "execution_count": 12,
     "metadata": {},
     "output_type": "execute_result"
    }
   ],
   "source": [
    "reader.filter_files(var_name='od550aer')"
   ]
  },
  {
   "cell_type": "markdown",
   "metadata": {},
   "source": [
    "As you can see, there are both daily and monthly files. The monthly, however only covers the years 2003-2007, while the daily has data until 2018:"
   ]
  },
  {
   "cell_type": "code",
   "execution_count": 13,
   "metadata": {},
   "outputs": [
    {
     "data": {
      "text/html": [
       "<div>\n",
       "<style scoped>\n",
       "    .dataframe tbody tr th:only-of-type {\n",
       "        vertical-align: middle;\n",
       "    }\n",
       "\n",
       "    .dataframe tbody tr th {\n",
       "        vertical-align: top;\n",
       "    }\n",
       "\n",
       "    .dataframe thead th {\n",
       "        text-align: right;\n",
       "    }\n",
       "</style>\n",
       "<table border=\"1\" class=\"dataframe\">\n",
       "  <thead>\n",
       "    <tr style=\"text-align: right;\">\n",
       "      <th></th>\n",
       "      <th>var_name</th>\n",
       "      <th>year</th>\n",
       "      <th>ts_type</th>\n",
       "      <th>vert_code</th>\n",
       "      <th>data_id</th>\n",
       "      <th>experiment</th>\n",
       "      <th>is_at_stations</th>\n",
       "      <th>3D</th>\n",
       "      <th>filename</th>\n",
       "    </tr>\n",
       "  </thead>\n",
       "  <tbody>\n",
       "    <tr>\n",
       "      <th>137</th>\n",
       "      <td>od550aer</td>\n",
       "      <td>2003</td>\n",
       "      <td>monthly</td>\n",
       "      <td></td>\n",
       "      <td>ECMWF_CAMS_REAN</td>\n",
       "      <td></td>\n",
       "      <td>False</td>\n",
       "      <td>False</td>\n",
       "      <td>aerocom.ECMWF_CAMS_REAN.monthly.od550aer.2003.nc</td>\n",
       "    </tr>\n",
       "    <tr>\n",
       "      <th>104</th>\n",
       "      <td>od550aer</td>\n",
       "      <td>2004</td>\n",
       "      <td>monthly</td>\n",
       "      <td></td>\n",
       "      <td>ECMWF_CAMS_REAN</td>\n",
       "      <td></td>\n",
       "      <td>False</td>\n",
       "      <td>False</td>\n",
       "      <td>aerocom.ECMWF_CAMS_REAN.monthly.od550aer.2004.nc</td>\n",
       "    </tr>\n",
       "    <tr>\n",
       "      <th>77</th>\n",
       "      <td>od550aer</td>\n",
       "      <td>2005</td>\n",
       "      <td>monthly</td>\n",
       "      <td></td>\n",
       "      <td>ECMWF_CAMS_REAN</td>\n",
       "      <td></td>\n",
       "      <td>False</td>\n",
       "      <td>False</td>\n",
       "      <td>aerocom.ECMWF_CAMS_REAN.monthly.od550aer.2005.nc</td>\n",
       "    </tr>\n",
       "    <tr>\n",
       "      <th>171</th>\n",
       "      <td>od550aer</td>\n",
       "      <td>2006</td>\n",
       "      <td>monthly</td>\n",
       "      <td></td>\n",
       "      <td>ECMWF_CAMS_REAN</td>\n",
       "      <td></td>\n",
       "      <td>False</td>\n",
       "      <td>False</td>\n",
       "      <td>aerocom.ECMWF_CAMS_REAN.monthly.od550aer.2006.nc</td>\n",
       "    </tr>\n",
       "    <tr>\n",
       "      <th>0</th>\n",
       "      <td>od550aer</td>\n",
       "      <td>2007</td>\n",
       "      <td>monthly</td>\n",
       "      <td></td>\n",
       "      <td>ECMWF_CAMS_REAN</td>\n",
       "      <td></td>\n",
       "      <td>False</td>\n",
       "      <td>False</td>\n",
       "      <td>aerocom.ECMWF_CAMS_REAN.monthly.od550aer.2007.nc</td>\n",
       "    </tr>\n",
       "  </tbody>\n",
       "</table>\n",
       "</div>"
      ],
      "text/plain": [
       "     var_name  year  ts_type vert_code          data_id experiment  \\\n",
       "137  od550aer  2003  monthly            ECMWF_CAMS_REAN              \n",
       "104  od550aer  2004  monthly            ECMWF_CAMS_REAN              \n",
       "77   od550aer  2005  monthly            ECMWF_CAMS_REAN              \n",
       "171  od550aer  2006  monthly            ECMWF_CAMS_REAN              \n",
       "0    od550aer  2007  monthly            ECMWF_CAMS_REAN              \n",
       "\n",
       "     is_at_stations     3D                                          filename  \n",
       "137           False  False  aerocom.ECMWF_CAMS_REAN.monthly.od550aer.2003.nc  \n",
       "104           False  False  aerocom.ECMWF_CAMS_REAN.monthly.od550aer.2004.nc  \n",
       "77            False  False  aerocom.ECMWF_CAMS_REAN.monthly.od550aer.2005.nc  \n",
       "171           False  False  aerocom.ECMWF_CAMS_REAN.monthly.od550aer.2006.nc  \n",
       "0             False  False  aerocom.ECMWF_CAMS_REAN.monthly.od550aer.2007.nc  "
      ]
     },
     "execution_count": 13,
     "metadata": {},
     "output_type": "execute_result"
    }
   ],
   "source": [
    "reader.filter_files(var_name='od550aer', ts_type='monthly')"
   ]
  },
  {
   "cell_type": "code",
   "execution_count": 14,
   "metadata": {},
   "outputs": [
    {
     "data": {
      "text/html": [
       "<div>\n",
       "<style scoped>\n",
       "    .dataframe tbody tr th:only-of-type {\n",
       "        vertical-align: middle;\n",
       "    }\n",
       "\n",
       "    .dataframe tbody tr th {\n",
       "        vertical-align: top;\n",
       "    }\n",
       "\n",
       "    .dataframe thead th {\n",
       "        text-align: right;\n",
       "    }\n",
       "</style>\n",
       "<table border=\"1\" class=\"dataframe\">\n",
       "  <thead>\n",
       "    <tr style=\"text-align: right;\">\n",
       "      <th></th>\n",
       "      <th>var_name</th>\n",
       "      <th>year</th>\n",
       "      <th>ts_type</th>\n",
       "      <th>vert_code</th>\n",
       "      <th>data_id</th>\n",
       "      <th>experiment</th>\n",
       "      <th>is_at_stations</th>\n",
       "      <th>3D</th>\n",
       "      <th>filename</th>\n",
       "    </tr>\n",
       "  </thead>\n",
       "  <tbody>\n",
       "    <tr>\n",
       "      <th>14</th>\n",
       "      <td>od550aer</td>\n",
       "      <td>2003</td>\n",
       "      <td>daily</td>\n",
       "      <td></td>\n",
       "      <td>ECMWF_CAMS_REAN</td>\n",
       "      <td></td>\n",
       "      <td>False</td>\n",
       "      <td>False</td>\n",
       "      <td>aerocom.ECMWF_CAMS_REAN.daily.od550aer.2003.nc</td>\n",
       "    </tr>\n",
       "    <tr>\n",
       "      <th>80</th>\n",
       "      <td>od550aer</td>\n",
       "      <td>2004</td>\n",
       "      <td>daily</td>\n",
       "      <td></td>\n",
       "      <td>ECMWF_CAMS_REAN</td>\n",
       "      <td></td>\n",
       "      <td>False</td>\n",
       "      <td>False</td>\n",
       "      <td>aerocom.ECMWF_CAMS_REAN.daily.od550aer.2004.nc</td>\n",
       "    </tr>\n",
       "    <tr>\n",
       "      <th>224</th>\n",
       "      <td>od550aer</td>\n",
       "      <td>2005</td>\n",
       "      <td>daily</td>\n",
       "      <td></td>\n",
       "      <td>ECMWF_CAMS_REAN</td>\n",
       "      <td></td>\n",
       "      <td>False</td>\n",
       "      <td>False</td>\n",
       "      <td>aerocom.ECMWF_CAMS_REAN.daily.od550aer.2005.nc</td>\n",
       "    </tr>\n",
       "    <tr>\n",
       "      <th>205</th>\n",
       "      <td>od550aer</td>\n",
       "      <td>2006</td>\n",
       "      <td>daily</td>\n",
       "      <td></td>\n",
       "      <td>ECMWF_CAMS_REAN</td>\n",
       "      <td></td>\n",
       "      <td>False</td>\n",
       "      <td>False</td>\n",
       "      <td>aerocom.ECMWF_CAMS_REAN.daily.od550aer.2006.nc</td>\n",
       "    </tr>\n",
       "    <tr>\n",
       "      <th>150</th>\n",
       "      <td>od550aer</td>\n",
       "      <td>2007</td>\n",
       "      <td>daily</td>\n",
       "      <td></td>\n",
       "      <td>ECMWF_CAMS_REAN</td>\n",
       "      <td></td>\n",
       "      <td>False</td>\n",
       "      <td>False</td>\n",
       "      <td>aerocom.ECMWF_CAMS_REAN.daily.od550aer.2007.nc</td>\n",
       "    </tr>\n",
       "    <tr>\n",
       "      <th>182</th>\n",
       "      <td>od550aer</td>\n",
       "      <td>2008</td>\n",
       "      <td>daily</td>\n",
       "      <td></td>\n",
       "      <td>ECMWF_CAMS_REAN</td>\n",
       "      <td></td>\n",
       "      <td>False</td>\n",
       "      <td>False</td>\n",
       "      <td>aerocom.ECMWF_CAMS_REAN.daily.od550aer.2008.nc</td>\n",
       "    </tr>\n",
       "    <tr>\n",
       "      <th>67</th>\n",
       "      <td>od550aer</td>\n",
       "      <td>2009</td>\n",
       "      <td>daily</td>\n",
       "      <td></td>\n",
       "      <td>ECMWF_CAMS_REAN</td>\n",
       "      <td></td>\n",
       "      <td>False</td>\n",
       "      <td>False</td>\n",
       "      <td>aerocom.ECMWF_CAMS_REAN.daily.od550aer.2009.nc</td>\n",
       "    </tr>\n",
       "    <tr>\n",
       "      <th>191</th>\n",
       "      <td>od550aer</td>\n",
       "      <td>2010</td>\n",
       "      <td>daily</td>\n",
       "      <td></td>\n",
       "      <td>ECMWF_CAMS_REAN</td>\n",
       "      <td></td>\n",
       "      <td>False</td>\n",
       "      <td>False</td>\n",
       "      <td>aerocom.ECMWF_CAMS_REAN.daily.od550aer.2010.nc</td>\n",
       "    </tr>\n",
       "    <tr>\n",
       "      <th>13</th>\n",
       "      <td>od550aer</td>\n",
       "      <td>2011</td>\n",
       "      <td>daily</td>\n",
       "      <td></td>\n",
       "      <td>ECMWF_CAMS_REAN</td>\n",
       "      <td></td>\n",
       "      <td>False</td>\n",
       "      <td>False</td>\n",
       "      <td>aerocom.ECMWF_CAMS_REAN.daily.od550aer.2011.nc</td>\n",
       "    </tr>\n",
       "    <tr>\n",
       "      <th>145</th>\n",
       "      <td>od550aer</td>\n",
       "      <td>2012</td>\n",
       "      <td>daily</td>\n",
       "      <td></td>\n",
       "      <td>ECMWF_CAMS_REAN</td>\n",
       "      <td></td>\n",
       "      <td>False</td>\n",
       "      <td>False</td>\n",
       "      <td>aerocom.ECMWF_CAMS_REAN.daily.od550aer.2012.nc</td>\n",
       "    </tr>\n",
       "    <tr>\n",
       "      <th>190</th>\n",
       "      <td>od550aer</td>\n",
       "      <td>2013</td>\n",
       "      <td>daily</td>\n",
       "      <td></td>\n",
       "      <td>ECMWF_CAMS_REAN</td>\n",
       "      <td></td>\n",
       "      <td>False</td>\n",
       "      <td>False</td>\n",
       "      <td>aerocom.ECMWF_CAMS_REAN.daily.od550aer.2013.nc</td>\n",
       "    </tr>\n",
       "    <tr>\n",
       "      <th>131</th>\n",
       "      <td>od550aer</td>\n",
       "      <td>2014</td>\n",
       "      <td>daily</td>\n",
       "      <td></td>\n",
       "      <td>ECMWF_CAMS_REAN</td>\n",
       "      <td></td>\n",
       "      <td>False</td>\n",
       "      <td>False</td>\n",
       "      <td>aerocom.ECMWF_CAMS_REAN.daily.od550aer.2014.nc</td>\n",
       "    </tr>\n",
       "    <tr>\n",
       "      <th>138</th>\n",
       "      <td>od550aer</td>\n",
       "      <td>2015</td>\n",
       "      <td>daily</td>\n",
       "      <td></td>\n",
       "      <td>ECMWF_CAMS_REAN</td>\n",
       "      <td></td>\n",
       "      <td>False</td>\n",
       "      <td>False</td>\n",
       "      <td>aerocom.ECMWF_CAMS_REAN.daily.od550aer.2015.nc</td>\n",
       "    </tr>\n",
       "    <tr>\n",
       "      <th>231</th>\n",
       "      <td>od550aer</td>\n",
       "      <td>2016</td>\n",
       "      <td>daily</td>\n",
       "      <td></td>\n",
       "      <td>ECMWF_CAMS_REAN</td>\n",
       "      <td></td>\n",
       "      <td>False</td>\n",
       "      <td>False</td>\n",
       "      <td>aerocom.ECMWF_CAMS_REAN.daily.od550aer.2016.nc</td>\n",
       "    </tr>\n",
       "    <tr>\n",
       "      <th>88</th>\n",
       "      <td>od550aer</td>\n",
       "      <td>2017</td>\n",
       "      <td>daily</td>\n",
       "      <td></td>\n",
       "      <td>ECMWF_CAMS_REAN</td>\n",
       "      <td></td>\n",
       "      <td>False</td>\n",
       "      <td>False</td>\n",
       "      <td>aerocom.ECMWF_CAMS_REAN.daily.od550aer.2017.nc</td>\n",
       "    </tr>\n",
       "    <tr>\n",
       "      <th>99</th>\n",
       "      <td>od550aer</td>\n",
       "      <td>2018</td>\n",
       "      <td>daily</td>\n",
       "      <td></td>\n",
       "      <td>ECMWF_CAMS_REAN</td>\n",
       "      <td></td>\n",
       "      <td>False</td>\n",
       "      <td>False</td>\n",
       "      <td>aerocom.ECMWF_CAMS_REAN.daily.od550aer.2018.nc</td>\n",
       "    </tr>\n",
       "  </tbody>\n",
       "</table>\n",
       "</div>"
      ],
      "text/plain": [
       "     var_name  year ts_type vert_code          data_id experiment  \\\n",
       "14   od550aer  2003   daily            ECMWF_CAMS_REAN              \n",
       "80   od550aer  2004   daily            ECMWF_CAMS_REAN              \n",
       "224  od550aer  2005   daily            ECMWF_CAMS_REAN              \n",
       "205  od550aer  2006   daily            ECMWF_CAMS_REAN              \n",
       "150  od550aer  2007   daily            ECMWF_CAMS_REAN              \n",
       "182  od550aer  2008   daily            ECMWF_CAMS_REAN              \n",
       "67   od550aer  2009   daily            ECMWF_CAMS_REAN              \n",
       "191  od550aer  2010   daily            ECMWF_CAMS_REAN              \n",
       "13   od550aer  2011   daily            ECMWF_CAMS_REAN              \n",
       "145  od550aer  2012   daily            ECMWF_CAMS_REAN              \n",
       "190  od550aer  2013   daily            ECMWF_CAMS_REAN              \n",
       "131  od550aer  2014   daily            ECMWF_CAMS_REAN              \n",
       "138  od550aer  2015   daily            ECMWF_CAMS_REAN              \n",
       "231  od550aer  2016   daily            ECMWF_CAMS_REAN              \n",
       "88   od550aer  2017   daily            ECMWF_CAMS_REAN              \n",
       "99   od550aer  2018   daily            ECMWF_CAMS_REAN              \n",
       "\n",
       "     is_at_stations     3D                                        filename  \n",
       "14            False  False  aerocom.ECMWF_CAMS_REAN.daily.od550aer.2003.nc  \n",
       "80            False  False  aerocom.ECMWF_CAMS_REAN.daily.od550aer.2004.nc  \n",
       "224           False  False  aerocom.ECMWF_CAMS_REAN.daily.od550aer.2005.nc  \n",
       "205           False  False  aerocom.ECMWF_CAMS_REAN.daily.od550aer.2006.nc  \n",
       "150           False  False  aerocom.ECMWF_CAMS_REAN.daily.od550aer.2007.nc  \n",
       "182           False  False  aerocom.ECMWF_CAMS_REAN.daily.od550aer.2008.nc  \n",
       "67            False  False  aerocom.ECMWF_CAMS_REAN.daily.od550aer.2009.nc  \n",
       "191           False  False  aerocom.ECMWF_CAMS_REAN.daily.od550aer.2010.nc  \n",
       "13            False  False  aerocom.ECMWF_CAMS_REAN.daily.od550aer.2011.nc  \n",
       "145           False  False  aerocom.ECMWF_CAMS_REAN.daily.od550aer.2012.nc  \n",
       "190           False  False  aerocom.ECMWF_CAMS_REAN.daily.od550aer.2013.nc  \n",
       "131           False  False  aerocom.ECMWF_CAMS_REAN.daily.od550aer.2014.nc  \n",
       "138           False  False  aerocom.ECMWF_CAMS_REAN.daily.od550aer.2015.nc  \n",
       "231           False  False  aerocom.ECMWF_CAMS_REAN.daily.od550aer.2016.nc  \n",
       "88            False  False  aerocom.ECMWF_CAMS_REAN.daily.od550aer.2017.nc  \n",
       "99            False  False  aerocom.ECMWF_CAMS_REAN.daily.od550aer.2018.nc  "
      ]
     },
     "execution_count": 14,
     "metadata": {},
     "output_type": "execute_result"
    }
   ],
   "source": [
    "reader.filter_files(var_name='od550aer', ts_type='daily')"
   ]
  },
  {
   "cell_type": "markdown",
   "metadata": {},
   "source": [
    "Now, when it comes to reading a data object, these information can be specified as input:"
   ]
  },
  {
   "cell_type": "code",
   "execution_count": 15,
   "metadata": {},
   "outputs": [
    {
     "name": "stdout",
     "output_type": "stream",
     "text": [
      "2003-01-01T00:00:00.000000 2007-12-31T23:59:59.999999 monthly\n"
     ]
    }
   ],
   "source": [
    "aod_monthly = reader.read_var('od550aer', ts_type='monthly')\n",
    "print(aod_monthly.start, aod_monthly.stop, aod_monthly.ts_type)"
   ]
  },
  {
   "cell_type": "code",
   "execution_count": 16,
   "metadata": {},
   "outputs": [
    {
     "name": "stdout",
     "output_type": "stream",
     "text": [
      "2003-01-01T00:00:00.000000 2018-12-31T23:59:59.999999 daily\n"
     ]
    }
   ],
   "source": [
    "aod_daily = reader.read_var('od550aer', ts_type='daily')\n",
    "print(aod_daily.start, aod_daily.stop, aod_daily.ts_type)"
   ]
  },
  {
   "cell_type": "markdown",
   "metadata": {},
   "source": [
    "However, what about a situation where you write a script that processes many models and you don't really know, in what resolution the model data comes, but 1. you prefer monthly where available (keyword `flex_ts_type`), and 2. you want to have the longest available timeseries (keyword `prefer_longer`). "
   ]
  },
  {
   "cell_type": "code",
   "execution_count": 17,
   "metadata": {},
   "outputs": [
    {
     "name": "stdout",
     "output_type": "stream",
     "text": [
      "2003-01-01T00:00:00.000000 2018-12-31T23:59:59.999999 daily\n"
     ]
    }
   ],
   "source": [
    "aod_inferred = reader.read_var('od550aer', ts_type='monthly', flex_ts_type=True, prefer_longer=True)\n",
    "print(aod_inferred.start, aod_inferred.stop, aod_inferred.ts_type)"
   ]
  },
  {
   "cell_type": "markdown",
   "metadata": {},
   "source": [
    "As you can see, the reading routine has automatically identified, that the daily dataset has a better time coverage and has thus, preferred that one over the specified ts_type of monthly."
   ]
  },
  {
   "cell_type": "code",
   "execution_count": 18,
   "metadata": {},
   "outputs": [
    {
     "data": {
      "text/plain": [
       "pyaerocom.GriddedData\n",
       "Grid data: <iris 'Cube' of Aerosol optical depth at 550 nm / (1) (time: 192; latitude: 161; longitude: 320)>"
      ]
     },
     "execution_count": 18,
     "metadata": {},
     "output_type": "execute_result"
    }
   ],
   "source": [
    "aod_inferred_monthly = aod_inferred.resample_time('monthly')\n",
    "aod_inferred_monthly"
   ]
  },
  {
   "cell_type": "markdown",
   "metadata": {},
   "source": [
    "#### Remark on time definition\n",
    "\n",
    "If the time dimension is not properly defined in a NetCDF data file, Pyaerocom can correct for this on data import by:\n",
    "\n",
    "1. First checking if the time dimension in the NetCDF file is correct according to CF convention ([see here for details on the implementation](http://aerocom.met.no/pyaerocom/api.html#pyaerocom.io.helpers.check_time_coord) and if a problem is detected, then ...\n",
    "2. the time axis is redefined based on the year and time resolution (*ts_type*) that is provided in the filename. The latter requires that the file follows one of the [pyaerocom file conventions](http://aerocom.met.no/pyaerocom/config_files.html#file-conventions)."
   ]
  },
  {
   "cell_type": "markdown",
   "metadata": {},
   "source": [
    "#### A very brief introduction into the GriddedData class\n",
    "\n",
    "Now as a final step, we briefly introduce some of the features of the `GriddedData` class by computing and plotting a time series of the global weighted average aerosol optical density as well as the same time series at the coordinates in the city of Leipzig, Germany."
   ]
  },
  {
   "cell_type": "code",
   "execution_count": 19,
   "metadata": {},
   "outputs": [
    {
     "name": "stderr",
     "output_type": "stream",
     "text": [
      "Interpolating data of shape (1826, 161, 320). This may take a while.\n"
     ]
    },
    {
     "name": "stderr",
     "output_type": "stream",
     "text": [
      "Successfully interpolated cube\n"
     ]
    },
    {
     "name": "stderr",
     "output_type": "stream",
     "text": [
      "/home/jonasg/anaconda3/lib/python3.6/site-packages/iris/analysis/cartography.py:394: UserWarning: Using DEFAULT_SPHERICAL_EARTH_RADIUS.\n",
      "  warnings.warn(\"Using DEFAULT_SPHERICAL_EARTH_RADIUS.\")\n"
     ]
    },
    {
     "name": "stderr",
     "output_type": "stream",
     "text": [
      "/home/jonasg/anaconda3/lib/python3.6/site-packages/iris/analysis/cartography.py:394: UserWarning: Using DEFAULT_SPHERICAL_EARTH_RADIUS.\n",
      "  warnings.warn(\"Using DEFAULT_SPHERICAL_EARTH_RADIUS.\")\n",
      "/home/jonasg/anaconda3/lib/python3.6/site-packages/iris/analysis/cartography.py:394: UserWarning: Using DEFAULT_SPHERICAL_EARTH_RADIUS.\n",
      "  warnings.warn(\"Using DEFAULT_SPHERICAL_EARTH_RADIUS.\")\n"
     ]
    }
   ],
   "source": [
    "#extract AODs at the position of Leipzig\n",
    "lon_leipzig = 12.44\n",
    "lat_leipzig = 51.35\n",
    "\n",
    "# the method to_time_series is designed to handle more than one coordinate (i.e. a list of station coordinates)\n",
    "data_leipzig = data.to_time_series(latitude=lat_leipzig, longitude=lon_leipzig)[0]\n",
    "\n",
    "global_mean = data.get_area_weighted_timeseries()\n",
    "europe_mean = data.get_area_weighted_timeseries(region='EUROPE')\n",
    "india_mean = data.get_area_weighted_timeseries(region='INDIA')"
   ]
  },
  {
   "cell_type": "markdown",
   "metadata": {},
   "source": [
    "#### Plot timeseries "
   ]
  },
  {
   "cell_type": "code",
   "execution_count": 20,
   "metadata": {
    "scrolled": true
   },
   "outputs": [
    {
     "data": {
      "image/png": "[encoded data removed]",
      "text/plain": [
       "<Figure size 1296x432 with 1 Axes>"
      ]
     },
     "metadata": {
      "needs_background": "light"
     },
     "output_type": "display_data"
    }
   ],
   "source": [
    "ax =  data_leipzig.plot_timeseries(var_name='od550aer', freq='monthly', lw=2, label='Leipzig', figsize=(18, 6))\n",
    "global_mean.plot_timeseries(var_name='od550aer', freq='monthly', lw=2, ax=ax, label='Mean (global)')\n",
    "europe_mean.plot_timeseries(var_name='od550aer', freq='monthly', lw=2, ax=ax, label='Mean (Europe)')\n",
    "india_mean.plot_timeseries(var_name='od550aer', freq='monthly', lw=2, ax=ax, label='Mean (India)')\n",
    "ax.legend()\n",
    "tit = ax.set_title(\"ECMWF Reanalysis (monthly averages)\")"
   ]
  }
 ],
 "metadata": {
  "kernelspec": {
   "display_name": "Python 3",
   "language": "python",
   "name": "python3"
  },
  "language_info": {
   "codemirror_mode": {
    "name": "ipython",
    "version": 3
   },
   "file_extension": ".py",
   "mimetype": "text/x-python",
   "name": "python",
   "nbconvert_exporter": "python",
   "pygments_lexer": "ipython3",
   "version": "3.6.8"
  }
 },
 "nbformat": 4,
 "nbformat_minor": 2
}
