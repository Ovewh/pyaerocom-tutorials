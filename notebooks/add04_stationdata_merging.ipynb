{
 "cells": [
  {
   "cell_type": "markdown",
   "metadata": {},
   "source": [
    "### Merging of several StationData objects into one \n",
    "\n",
    "This notebook illustrates how one can merge several instances StationData objects into one objects. This merging only works for data from the same station and a typical case is if the data source files for one station are separated into many single files containing only parts of the data (e.g. if the files contain only one year of data). \n",
    "\n",
    "In the following, the example of the EBAS database is used for illustration. In particular, we will focus on the retrieval of the aerosol light scattering coefficients at 550 nm (**scatc550aer** in AEROCOM naming convention) for the station ***Jungfraujoch***, located in Germany."
   ]
  },
  {
   "cell_type": "code",
   "execution_count": 1,
   "metadata": {},
   "outputs": [
    {
     "name": "stderr",
     "output_type": "stream",
     "text": [
      "Initating pyaerocom configuration\n",
      "Checking database access...\n",
      "Checking access to: /lustre/storeA\n",
      "Access to lustre database: True\n",
      "Init data paths for lustre\n",
      "Expired time: 0.084 s\n"
     ]
    }
   ],
   "source": [
    "import pyaerocom as pya"
   ]
  },
  {
   "cell_type": "markdown",
   "metadata": {},
   "source": [
    "#### Get list of all files containing scattering data for EBAS station Jungfraujoch"
   ]
  },
  {
   "cell_type": "code",
   "execution_count": null,
   "metadata": {},
   "outputs": [],
   "source": [
    "reader = pya.io.ReadEbas()\n",
    "data = reader.read(vars_to_retrieve='scatc550aer', \n",
    "                            datalevel=2, station_names='Jungfraujoch')\n",
    "print(data)"
   ]
  },
  {
   "cell_type": "markdown",
   "metadata": {},
   "source": [
    "As you can see, the data has successfully been imported into an instance of the ``UngriddedData`` class. This class is organised *by file*, that is, for each of the 26 files that were imported, there is one metadata dictionary assigned. Let's look at the metadata from the first file:"
   ]
  },
  {
   "cell_type": "code",
   "execution_count": null,
   "metadata": {},
   "outputs": [],
   "source": [
    "data.metadata[0]"
   ]
  },
  {
   "cell_type": "markdown",
   "metadata": {},
   "source": [
    "And the last one:"
   ]
  },
  {
   "cell_type": "code",
   "execution_count": null,
   "metadata": {},
   "outputs": [],
   "source": [
    "data.metadata[25]"
   ]
  },
  {
   "cell_type": "markdown",
   "metadata": {},
   "source": [
    "As you can see, both files contain scattering data but do not share all the same metadata attributes (e.g. ``instrument_name`` is different, which might be due to technological updates over time). \n",
    "\n",
    "Let's have a look at the respective time-series for both stations. First, convert into instance of `StationData` class and then plot."
   ]
  },
  {
   "cell_type": "code",
   "execution_count": null,
   "metadata": {},
   "outputs": [],
   "source": [
    "first_file = data.to_station_data(0, vars_to_convert='scatc550aer')\n",
    "print(first_file)"
   ]
  },
  {
   "cell_type": "code",
   "execution_count": null,
   "metadata": {},
   "outputs": [],
   "source": [
    "last_file = data.to_station_data(25)\n",
    "print(last_file)"
   ]
  },
  {
   "cell_type": "code",
   "execution_count": null,
   "metadata": {},
   "outputs": [],
   "source": [
    "first_file.plot_timeseries('scatc550aer');"
   ]
  },
  {
   "cell_type": "code",
   "execution_count": null,
   "metadata": {},
   "outputs": [],
   "source": [
    "last_file.plot_timeseries('scatc550aer');"
   ]
  },
  {
   "cell_type": "markdown",
   "metadata": {},
   "source": [
    "As you can see, the files contain data from different years. Now, how can we get these objects into one object that contains the timeseries of both files from this station?\n",
    "\n",
    "This is actually very easy:"
   ]
  },
  {
   "cell_type": "code",
   "execution_count": null,
   "metadata": {
    "scrolled": false
   },
   "outputs": [],
   "source": [
    "merged = first_file.merge_other(last_file, 'scatc550aer')\n",
    "print(merged)"
   ]
  },
  {
   "cell_type": "markdown",
   "metadata": {},
   "source": [
    "As you can see in the output, the merging comprises not only the data arrays but also registers any differences in the assoicated metdadata (cf. e.g., sampling wavelength 550 nm vs. 525 nm, instrument name, PI)"
   ]
  },
  {
   "cell_type": "markdown",
   "metadata": {},
   "source": [
    "Now, have a look at the merged timeseries data. "
   ]
  },
  {
   "cell_type": "code",
   "execution_count": null,
   "metadata": {},
   "outputs": [],
   "source": [
    "merged.plot_timeseries('scatc550aer');"
   ]
  },
  {
   "cell_type": "markdown",
   "metadata": {},
   "source": [
    "Looks okay. Let's merge all 26 files and see if we get a nice long time series.\n",
    "\n",
    "Retrieve list of `StationData` objects:"
   ]
  },
  {
   "cell_type": "code",
   "execution_count": null,
   "metadata": {},
   "outputs": [],
   "source": [
    "stats = data.to_station_data('Jungfraujoch', 'scatc550aer', merge_if_multi=False)\n",
    "print('Number of StationData objects retrieved: {}'.format(len(stats)))"
   ]
  },
  {
   "cell_type": "markdown",
   "metadata": {},
   "source": [
    "Now merge them into one long time series:"
   ]
  },
  {
   "cell_type": "code",
   "execution_count": null,
   "metadata": {},
   "outputs": [],
   "source": [
    "merged = pya.helpers.merge_station_data(stats, var_name='scatc550aer')\n",
    "print(merged)"
   ]
  },
  {
   "cell_type": "markdown",
   "metadata": {},
   "source": [
    "And plot..."
   ]
  },
  {
   "cell_type": "code",
   "execution_count": null,
   "metadata": {},
   "outputs": [],
   "source": [
    "ax = merged.plot_timeseries('scatc550aer')\n",
    "merged.plot_timeseries('scatc550aer', freq='daily', ax=ax)\n",
    "merged.plot_timeseries('scatc550aer', freq='monthly', lw=3, ax=ax)\n",
    "merged.plot_timeseries('scatc550aer', freq='yearly', ls='none', marker='o', ms=10, ax=ax);"
   ]
  },
  {
   "cell_type": "markdown",
   "metadata": {},
   "source": [
    "#### Comment for convenience....\n",
    "\n",
    "Actually, in the default setup you do not really need to think about all this. As you might have recognised, when creating the list of `StationData` objects from the `UngriddedData` object (using method `to_station_data`) we parsed the argument `merge_if_multi=False`.\n",
    "\n",
    "The default here is `True`, so you can just go ahead and do:"
   ]
  },
  {
   "cell_type": "code",
   "execution_count": null,
   "metadata": {},
   "outputs": [],
   "source": [
    "data.to_station_data('Jungfraujoch', 'scatc550aer').plot_timeseries('scatc550aer')"
   ]
  },
  {
   "cell_type": "markdown",
   "metadata": {},
   "source": [
    "What's happening here is, that `to_station_data` internally creates a list of `StationData` objects and uses the above illustrated method `merge_station_data` at the end if the input argument `merge_if_multi=True`. "
   ]
  },
  {
   "cell_type": "markdown",
   "metadata": {},
   "source": [
    "#### What about overlapping data ??\n",
    "\n",
    "In some situations, there may be overlapping conflicts when merging multiple time series into one long time-series. In the following, we illustrate how these overlaps are handled if they occur. \n",
    "\n",
    "The method `merge_station_data` that is illustrated above has some features to handle overlapping data and in any case, all overlaps that were detected are stored in the `overlap` attribute of the merged `StationData` object. Let's check first if there are any overlaps in the Jungfraujoch data:"
   ]
  },
  {
   "cell_type": "code",
   "execution_count": null,
   "metadata": {},
   "outputs": [],
   "source": [
    "merged.overlap"
   ]
  },
  {
   "cell_type": "markdown",
   "metadata": {},
   "source": [
    "Apparently, there is. You can check out these data (in comparison with the retrieved time series) as follows:"
   ]
  },
  {
   "cell_type": "code",
   "execution_count": null,
   "metadata": {},
   "outputs": [],
   "source": [
    "merged.plot_timeseries('scatc550aer', add_overlaps=True);"
   ]
  },
  {
   "cell_type": "markdown",
   "metadata": {},
   "source": [
    "#### How to prioritise certain stations from others, when deciding what goes into overlap and what into the final timeseries?\n",
    "\n",
    "The method `merge_station_data` provides a bunch of options to handle that. Things do not be written twice so please read the docstring of the method:"
   ]
  },
  {
   "cell_type": "code",
   "execution_count": null,
   "metadata": {},
   "outputs": [],
   "source": [
    "help(pya.helpers.merge_station_data)"
   ]
  },
  {
   "cell_type": "markdown",
   "metadata": {},
   "source": [
    "In particular, `pref_attr` and `sort_by_largest` are relevant here. \n",
    "\n",
    "**NOTE**: if `pref_attr` is unspecified, then the stations are sorted based on the number of valid measurement points for the input variable. This was done in the merged time series that we retrieved above.\n",
    "\n",
    "Now, in the following, let's not use the number of available data points (to sort the stations by relevance) but prefer stations that have a more recent data revision date."
   ]
  },
  {
   "cell_type": "code",
   "execution_count": null,
   "metadata": {},
   "outputs": [],
   "source": [
    "try:\n",
    "    merged_pref_awesomeness = pya.helpers.merge_station_data(stats, 'scatc550aer', pref_attr='awesomeness')\n",
    "except pya.exceptions.MetaDataError as e:\n",
    "    print('Failed merging, error: {}'.format(repr(e)))"
   ]
  },
  {
   "cell_type": "markdown",
   "metadata": {},
   "source": [
    "Unfortunately, the `StationData` objects do not contain an attribute `awesomeness` by which we could sort. Let's go with \n",
    "`revision_date` instead:"
   ]
  },
  {
   "cell_type": "code",
   "execution_count": null,
   "metadata": {},
   "outputs": [],
   "source": [
    "# recompute stations, since we overwrote one above\n",
    "stats = data.to_station_data('Jungfraujoch', 'scatc550aer', merge_if_multi=False)\n",
    "merged_pref_recent_revision = pya.helpers.merge_station_data(stats, 'scatc550aer', pref_attr='revision_date')"
   ]
  },
  {
   "cell_type": "code",
   "execution_count": null,
   "metadata": {},
   "outputs": [],
   "source": [
    "merged_pref_recent_revision.plot_timeseries('scatc550aer', add_overlaps=True)"
   ]
  },
  {
   "cell_type": "markdown",
   "metadata": {},
   "source": [
    "Let's see if there is any difference to the previous method (resample to daily resolution):"
   ]
  },
  {
   "cell_type": "code",
   "execution_count": null,
   "metadata": {},
   "outputs": [],
   "source": [
    "ax = merged.overlap['scatc550aer'].resample('D').mean().plot(style='x', label='Overlaps (prefer longer timeseries)',\n",
    "                                                             figsize=(20, 8))\n",
    "\n",
    "merged_pref_recent_revision.overlap['scatc550aer'].resample('D').mean().plot(style='o', \n",
    "                                                                             label='Overlaps (prefer more recent)',\n",
    "                                                                             ax=ax, markerfacecolor='none')\n",
    "ax.legend();"
   ]
  },
  {
   "cell_type": "markdown",
   "metadata": {},
   "source": [
    "As you can see, the merging strategy can make an impact and it is important to define a reasonable strategy. In this case, it is certainly more reliable to use the data with the more recent revision date."
   ]
  },
  {
   "cell_type": "code",
   "execution_count": null,
   "metadata": {},
   "outputs": [],
   "source": [
    "import matplotlib.pyplot as plt\n",
    "\n",
    "plt.figure(figsize=(16, 12))\n",
    "ax = plt.scatter(merged_pref_recent_revision.overlap['scatc550aer'], \n",
    "                 merged.overlap['scatc550aer'], marker='x')"
   ]
  }
 ],
 "metadata": {
  "kernelspec": {
   "display_name": "Python 3",
   "language": "python",
   "name": "python3"
  },
  "language_info": {
   "codemirror_mode": {
    "name": "ipython",
    "version": 3
   },
   "file_extension": ".py",
   "mimetype": "text/x-python",
   "name": "python",
   "nbconvert_exporter": "python",
   "pygments_lexer": "ipython3",
   "version": "3.6.8"
  }
 },
 "nbformat": 4,
 "nbformat_minor": 2
}
