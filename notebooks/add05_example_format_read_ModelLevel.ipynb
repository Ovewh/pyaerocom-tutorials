{
 "cells": [
  {
   "cell_type": "markdown",
   "metadata": {},
   "source": [
    "###  Gridded model profile data: how AeroCom \"ModelLevel\" files should be prepared\n",
    "\n",
    "This notebook shows an example 4D AeroCom model data file that contains aerosol extinction coefficients and how such files should be prepared, such that pyaerocom can convert the model levels to altitude levels."
   ]
  },
  {
   "cell_type": "code",
   "execution_count": 1,
   "metadata": {},
   "outputs": [
    {
     "name": "stderr",
     "output_type": "stream",
     "text": [
      "Initating pyaerocom configuration\n"
     ]
    },
    {
     "name": "stderr",
     "output_type": "stream",
     "text": [
      "Checking database access...\n"
     ]
    },
    {
     "name": "stderr",
     "output_type": "stream",
     "text": [
      "Checking access to: /lustre/storeA\n"
     ]
    },
    {
     "name": "stderr",
     "output_type": "stream",
     "text": [
      "Access to lustre database: True\n"
     ]
    },
    {
     "name": "stderr",
     "output_type": "stream",
     "text": [
      "Init data paths for lustre\n"
     ]
    },
    {
     "name": "stderr",
     "output_type": "stream",
     "text": [
      "Expired time: 0.027 s\n"
     ]
    }
   ],
   "source": [
    "import pyaerocom as pya"
   ]
  },
  {
   "cell_type": "code",
   "execution_count": 2,
   "metadata": {},
   "outputs": [
    {
     "name": "stdout",
     "output_type": "stream",
     "text": [
      "\n",
      "Pyaerocom ReadGridded\n",
      "---------------------\n",
      "Model ID: GISS-MATRIX_GLOFIR0p5\n",
      "Data directory: /lustre/storeA/project/aerocom/aerocom-users-database/AEROCOM-PHASE-III/GISS-MATRIX_GLOFIR0p5/renamed\n",
      "Available experiments: ['GISS-MATRIX_GLOFIR0p5']\n",
      "Available years: [2008]\n",
      "Available frequencies ['3hourly', 'daily', 'monthly']\n",
      "Available variables: ['abs550aer', 'abs550aercs', 'dh', 'drybc', 'drydust', 'drynh4', 'dryno3', 'dryoa', 'dryso2', 'dryss', 'ec550aer', 'emibc', 'emidms', 'emidust', 'emioa', 'emiso2', 'emiso4', 'emisoa', 'emiss', 'hus', 'mmrbc', 'mmrdust', 'mmrnh4', 'mmrno3', 'mmroa', 'mmrso4', 'mmrss', 'od550aer', 'od550aercs', 'ps', 'rh', 'ta', 'ts', 'uas', 'vas', 'was', 'wetbc', 'wetdust', 'wetnh4', 'wetno3', 'wetoa', 'wetso2', 'wetso4', 'wetss']\n"
     ]
    }
   ],
   "source": [
    "model_reader = pya.io.ReadGridded('GISS-MATRIX_GLOFIR0p5') \n",
    "print(model_reader)"
   ]
  },
  {
   "cell_type": "code",
   "execution_count": 3,
   "metadata": {},
   "outputs": [
    {
     "name": "stderr",
     "output_type": "stream",
     "text": [
      "/home/jonasg/anaconda3/lib/python3.6/site-packages/iris/fileformats/cf.py:1069: UserWarning: Ignoring formula terms variable 'ps' referenced by data variable 'a_bnds' via variable 'lev': Dimensions ('time', 'lat', 'lon') do not span ('lev', 'bnds')\n",
      "  warnings.warn(msg)\n",
      "/home/jonasg/anaconda3/lib/python3.6/site-packages/iris/fileformats/cf.py:1069: UserWarning: Ignoring formula terms variable 'ps' referenced by data variable 'b_bnds' via variable 'lev': Dimensions ('time', 'lat', 'lon') do not span ('lev', 'bnds')\n",
      "  warnings.warn(msg)\n",
      "/home/jonasg/anaconda3/lib/python3.6/site-packages/iris/fileformats/netcdf.py:599: UserWarning: Unable to find coordinate for variable 'ps'\n",
      "  '{!r}'.format(name))\n",
      "/home/jonasg/anaconda3/lib/python3.6/site-packages/iris/fileformats/netcdf.py:599: UserWarning: Unable to find coordinate for variable 'ps'\n",
      "  '{!r}'.format(name))\n"
     ]
    },
    {
     "name": "stdout",
     "output_type": "stream",
     "text": [
      "pyaerocom.GriddedData: GISS-MATRIX_GLOFIR0p5\n",
      "Grid data: Aerosol Extinction @550nm                                (time: 365; atmosphere_hybrid_sigma_pressure_coordinate: 40; latitude: 90; longitude: 144)\n",
      "     Dimension coordinates:\n",
      "          time                                                x                                                 -             -              -\n",
      "          atmosphere_hybrid_sigma_pressure_coordinate         -                                                 x             -              -\n",
      "          latitude                                            -                                                 -             x              -\n",
      "          longitude                                           -                                                 -             -              x\n",
      "     Auxiliary coordinates:\n",
      "          surface_air_pressure                                x                                                 -             x              x\n",
      "          hybrid sigma coordinate A coefficient for layer     -                                                 x             -              -\n",
      "          hybrid sigma coordinate B coefficient for layer     -                                                 x             -              -\n",
      "          vertical pressure                                   -                                                 x             -              -\n",
      "     Derived coordinates:\n",
      "          air_pressure                                        x                                                 x             x              x\n",
      "     Scalar coordinates:\n",
      "          reference pressure for hybrid sigma coordinate: 100000.0 Pa\n",
      "     Attributes:\n",
      "          Conventions: CF-1.3\n",
      "          associated_files: gridspecFile: gridspec_REALM_fx_GISS-MATRIX-GLOFIR0p5_r0i0p0.nc\n",
      "          branch_time: 0.0\n",
      "          cmor_version: 2.5.7\n",
      "          contact: Kenneth Lo (cdkkl@giss.nasa.gov)\n",
      "          creation_date: 2017-03-09T23:41:42Z\n",
      "          experiment: GLOFIR0p5\n",
      "          experiment_id: GLOFIR0p5\n",
      "          forcing: N/A\n",
      "          frequency: day\n",
      "          history: 2017-03-09T23:41:42Z altered by CMOR: replaced missing value flag (-1e+30)...\n",
      "          initialization_method: 1\n",
      "          institute_id: NASA-GISS\n",
      "          institution: NASA/GISS (Goddard Institute for Space Studies) New York, NY\n",
      "          invalid_standard_name: volume_extinction_coeffcient_in_air_due_to_ambient_aerosol_particles\n",
      "          model_id: GISS-MATRIX-GLOFIR0p5\n",
      "          modeling_realm: REALM\n",
      "          original_name: ec550aer\n",
      "          parent_experiment: N/A\n",
      "          parent_experiment_id: N/A\n",
      "          parent_experiment_rip: N/A\n",
      "          physics_version: 1\n",
      "          product: output\n",
      "          project_id: AEROCOM-ACC\n",
      "          realization: 1\n",
      "          references: http://data.giss.nasa.gov/modelE/ar5\n",
      "          source: GISS-MATRIX-GLOFIR0p5-MATRIXEQSAM_AEROBB2s Atmosphere: GISS-E2; Ocean:...\n",
      "          table_id: Table 3D-D (July 2009) 6053da228d695447dc6f66720d2bf9f8\n",
      "          title: GISS-MATRIX-GLOFIR0p5 model output prepared for AEROCOM-ACC GLOFIR0p5\n",
      "          tracking_id: 10b022b3-0597-490f-8d97-24c074853a57\n",
      "     Cell methods:\n",
      "          mean: time\n"
     ]
    }
   ],
   "source": [
    "data = model_reader.read_var('ec550aer', ts_type='daily', vert_which='ModelLevel')\n",
    "print(data)"
   ]
  },
  {
   "cell_type": "code",
   "execution_count": 4,
   "metadata": {},
   "outputs": [],
   "source": []
  }
 ],
 "metadata": {
  "kernelspec": {
   "display_name": "Python 3",
   "language": "python",
   "name": "python3"
  },
  "language_info": {
   "codemirror_mode": {
    "name": "ipython",
    "version": 3
   },
   "file_extension": ".py",
   "mimetype": "text/x-python",
   "name": "python",
   "nbconvert_exporter": "python",
   "pygments_lexer": "ipython3",
   "version": "3.6.8"
  }
 },
 "nbformat": 4,
 "nbformat_minor": 2
}
